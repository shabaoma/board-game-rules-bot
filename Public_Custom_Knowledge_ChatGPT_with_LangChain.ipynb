{
 "cells": [
  {
   "cell_type": "markdown",
   "metadata": {
    "id": "_x1GI7Fo8Y7x"
   },
   "source": [
    "# LangChainを使ってChatGPTに独自データに関する質問に回答してもらう\n",
    "\n",
    "このサンプルでは、インターネット上からダウンロードしたPDFファイルに関する質問に対しての回答をしてもらいます。\n",
    "PDFファイルはインターネットからダウンロードします。\n",
    "URLを変更するなどすることで、独自のPDFファイルを代わりに読み込ませることも可能です。\n",
    "\n",
    "\n",
    "以下に処理の概要を示します。\n",
    "\n",
    "0.   OpenAPIキーの設定と、関連ライブラリのインストールとインポート\n",
    "1.   PDFをロードし、LangChainを使ってチャンクに分割する\n",
    "2.   テキスト情報を数値化（Embedding)し、保存する\n",
    "3.   データ取得関数を作成する。\n",
    "4.   チャットbotの作成\n",
    "\n",
    "こちらの記事は、Liam Ottleyさんの記事を参考にして独自の情報を追加しています。  \n",
    "動画は以下のYoutubeからご参照ください。\n",
    "  [YouTube](https://youtube.com/@LiamOttley)\n",
    "\n",
    "\n",
    "\n"
   ]
  },
  {
   "cell_type": "markdown",
   "metadata": {
    "id": "Q24Y-g6h-Bg0"
   },
   "source": [
    "# 0. OpenAPIキーの設定と、関連ライブラリのインストール\n",
    "利用するライブラリをpipを使ってインストールします。"
   ]
  },
  {
   "cell_type": "code",
   "execution_count": 9,
   "metadata": {
    "colab": {
     "base_uri": "https://localhost:8080/"
    },
    "id": "gk2J2sYYjTkM",
    "outputId": "6059a68c-0734-4a33-dd78-fb201e575625"
   },
   "outputs": [
    {
     "name": "stdout",
     "output_type": "stream",
     "text": [
      "huggingface/tokenizers: The current process just got forked, after parallelism has already been used. Disabling parallelism to avoid deadlocks...\n",
      "To disable this warning, you can either:\n",
      "\t- Avoid using `tokenizers` before the fork if possible\n",
      "\t- Explicitly set the environment variable TOKENIZERS_PARALLELISM=(true | false)\n"
     ]
    }
   ],
   "source": [
    "# RUN THIS CELL FIRST!//\n",
    "!pip install -q langchain==0.0.150 pypdf pandas matplotlib tiktoken textract transformers openai faiss-cpu requests beautifulsoup4"
   ]
  },
  {
   "cell_type": "code",
   "execution_count": 10,
   "metadata": {
    "id": "l-uszlwN641q"
   },
   "outputs": [],
   "source": [
    "import os\n",
    "import pandas as pd\n",
    "import requests\n",
    "import textract\n",
    "from bs4 import BeautifulSoup\n",
    "import matplotlib.pyplot as plt\n",
    "from transformers import GPT2TokenizerFast\n",
    "from langchain.document_loaders import PyPDFLoader\n",
    "from langchain.text_splitter import RecursiveCharacterTextSplitter\n",
    "from langchain.embeddings import OpenAIEmbeddings\n",
    "from langchain.vectorstores import FAISS\n",
    "from langchain.chains.question_answering import load_qa_chain\n",
    "from langchain.llms import OpenAI\n",
    "from langchain.chains import ConversationalRetrievalChain\n"
   ]
  },
  {
   "cell_type": "markdown",
   "metadata": {
    "id": "WAaaEtRPFzbF"
   },
   "source": [
    "以下にOpenAIから取得したキーを設定します。キーは以下のURLから取得することができます。  \n",
    "（アカウントの作成が必要です）  \n",
    "https://platform.openai.com/account/api-keys\n",
    "\n"
   ]
  },
  {
   "cell_type": "code",
   "execution_count": 11,
   "metadata": {
    "id": "E2Buv5Y0uFr8"
   },
   "outputs": [],
   "source": [
    "# ここにOpenAIから取得したキーを設定します。\n",
    "os.environ[\"OPENAI_API_KEY\"] = ''"
   ]
  },
  {
   "cell_type": "markdown",
   "metadata": {
    "id": "ewek40iOGMvY"
   },
   "source": [
    "インターネット上からPDFファイル（日本語で書かれたマニュアル）をダウンロードして、ローカルファイルとして保存します。"
   ]
  },
  {
   "cell_type": "markdown",
   "metadata": {
    "id": "RLULMPXa-Hu8"
   },
   "source": [
    "# 1. データをダウンロードし、LangChainを使ってチャンクに分割する\n",
    "ここでは、自社の情報と仮定して、2つのPDFファイルを読み込みます。必要に応じて読み込むファイルを自社のマニュアルなどに置き換えてみてください。\n",
    "\n",
    "\n"
   ]
  },
  {
   "cell_type": "markdown",
   "metadata": {
    "id": "Lwj4TvTEtoje"
   },
   "source": [
    "### ドキュメントのロード＆チャンク分割\n",
    "\n"
   ]
  },
  {
   "cell_type": "code",
   "execution_count": 12,
   "metadata": {
    "id": "iADY2CXNlNq9"
   },
   "outputs": [
    {
     "name": "stdout",
     "output_type": "stream",
     "text": [
      "huggingface/tokenizers: The current process just got forked, after parallelism has already been used. Disabling parallelism to avoid deadlocks...\n",
      "To disable this warning, you can either:\n",
      "\t- Avoid using `tokenizers` before the fork if possible\n",
      "\t- Explicitly set the environment variable TOKENIZERS_PARALLELISM=(true | false)\n"
     ]
    },
    {
     "name": "stderr",
     "output_type": "stream",
     "text": [
      "Token indices sequence length is longer than the specified maximum sequence length for this model (1944 > 1024). Running this sequence through the model will result in indexing errors\n"
     ]
    }
   ],
   "source": [
    "# Step 1: Convert PDF to text\n",
    "doc = textract.process(\"rules.pdf\")\n",
    "# Step 2: Save to .txt and reopen (helps prevent issues)\n",
    "with open('attention_is_all_you_need.txt', 'w') as f:\n",
    "    f.write(doc.decode('utf-8'))\n",
    "\n",
    "with open('attention_is_all_you_need.txt', 'r') as f:\n",
    "    text = f.read()\n",
    "\n",
    "# Step 3: Create function to count tokens\n",
    "tokenizer = GPT2TokenizerFast.from_pretrained(\"gpt2\")\n",
    "\n",
    "def count_tokens(text: str) -> int:\n",
    "    return len(tokenizer.encode(text))\n",
    "\n",
    "# Step 4: Split text into chunks\n",
    "text_splitter = RecursiveCharacterTextSplitter(\n",
    "    # Set a really small chunk size, just to show.\n",
    "    chunk_size = 512,\n",
    "    chunk_overlap  = 24,\n",
    "    length_function = count_tokens,\n",
    ")\n",
    "\n",
    "chunks = text_splitter.create_documents([text])"
   ]
  },
  {
   "cell_type": "markdown",
   "metadata": {
    "id": "_IlznUDK-i2m"
   },
   "source": [
    "# 2. 読み込んだデータvector storeに保存する\n",
    "ここでは、これまでに読み込んだ3つの情報をVector storeに保存します。。\n",
    "Vector storeはいくつも種類がありますが、今回はFacebook製のFAISSを利用します。  \n",
    "\n",
    "\n",
    "> 利用可能なVectorStoreはこちらを参照してください。\n",
    "https://python.langchain.com/en/latest/modules/indexes/vectorstores.html#\n",
    "\n",
    "\n"
   ]
  },
  {
   "cell_type": "code",
   "execution_count": 13,
   "metadata": {
    "id": "92ObhTAKnZzQ"
   },
   "outputs": [],
   "source": [
    "# Get embedding model\n",
    "embeddings = OpenAIEmbeddings()\n",
    "\n",
    "#  vector databaseの作成\n",
    "db = FAISS.from_documents(chunks, embeddings)"
   ]
  },
  {
   "cell_type": "markdown",
   "metadata": {
    "id": "2LPwdGDP-nPO"
   },
   "source": [
    "# 3. データ取得関数のセットアップ"
   ]
  },
  {
   "cell_type": "markdown",
   "metadata": {
    "id": "PcwebAXEyZVw"
   },
   "source": [
    "## ユーザからのクエリを使って関連するデータを取得できる様にQAチェインを作成する\n",
    "\n",
    "ここで、これまでにロードしたドキュメントに書かれた情報に関する質問を投げてみて、期待する結果が返ってくるかどうかを確認します。\n",
    "\n",
    "\n",
    ">  以下コード内のtemperatureを変更することにより、情報の精度を上げることができます。(0-2までの値で指定）0にした場合、質問内容の回答がはっきりわからない場合はI don't knowと言われます。。\n",
    "\n"
   ]
  },
  {
   "cell_type": "code",
   "execution_count": 14,
   "metadata": {
    "colab": {
     "base_uri": "https://localhost:8080/",
     "height": 35
    },
    "id": "1Kv_sM8G5qAo",
    "outputId": "3b9bcf63-0b2f-4676-fa76-f3a127d68303"
   },
   "outputs": [
    {
     "data": {
      "text/plain": [
       "' You can visit plaidhatgames.com and watch video explanations.'"
      ]
     },
     "execution_count": 14,
     "metadata": {},
     "output_type": "execute_result"
    }
   ],
   "source": [
    "# 得られた情報から回答を導き出すためのプロセスを以下の4つから選択する。いずれもProsとConsがあるため、適切なものを選択する必要がある。\n",
    "# staffing ... 得られた候補をそのままインプットとする\n",
    "# map_reduce ... 得られた候補のサマリをそれぞれ生成し、そのサマリのサマリを作ってインプットとする\n",
    "# map_rerank ... 得られた候補にそれぞれスコアを振って、いちばん高いものをインプットとして回答を得る\n",
    "# refine  ... 得られた候補のサマリを生成し、次にそのサマリと次の候補の様裏を作ることを繰り返す\n",
    "chain = load_qa_chain(OpenAI(temperature=0.2,max_tokens=1000), chain_type=\"stuff\")\n",
    "query = \"how to play\"\n",
    "docs = db.similarity_search(query)\n",
    "# langchainを使って検索\n",
    "chain.run(input_documents=docs, question=query)"
   ]
  },
  {
   "cell_type": "markdown",
   "metadata": {
    "id": "U_nH1qoL-w--"
   },
   "source": [
    "# 4. チャットbotを作成する（Option)\n",
    "ここでは、これまでに読み込んだドキュメントを使って簡易のチャットボットを作成します。\n",
    "ここを実行するとダイアログが表示されますので、前に読み込ませたドキュメントに関する質問をして見てください。"
   ]
  },
  {
   "cell_type": "code",
   "execution_count": 15,
   "metadata": {
    "id": "evF7_Dyhtcaf"
   },
   "outputs": [],
   "source": [
    "from IPython.display import display\n",
    "import ipywidgets as widgets\n",
    "\n",
    "# vextordbをretrieverとして使うconversation chainを作成します。これはチャット履歴の管理も可能にします。\n",
    "qa = ConversationalRetrievalChain.from_llm(OpenAI(temperature=0.1), db.as_retriever())"
   ]
  },
  {
   "cell_type": "code",
   "execution_count": 16,
   "metadata": {
    "colab": {
     "base_uri": "https://localhost:8080/",
     "height": 67,
     "referenced_widgets": [
      "6134b273f71748e084cddc9c86879556",
      "205f4fd2a0b74145b4d86a362710ce13",
      "897aec3970604a77a1bcad68e70837cf"
     ]
    },
    "id": "-pHw5siewPNt",
    "outputId": "e4afa840-7fc2-403e-f468-3d0d27f67cb8"
   },
   "outputs": [
    {
     "name": "stdout",
     "output_type": "stream",
     "text": [
      "Welcome to the Transformers chatbot! Type 'exit' to stop.\n"
     ]
    },
    {
     "name": "stderr",
     "output_type": "stream",
     "text": [
      "/var/folders/96/jfcsm87117x90kt7g3gnt3pw0000gp/T/ipykernel_86865/3970211031.py:20: DeprecationWarning: on_submit is deprecated. Instead, set the .continuous_update attribute to False and observe the value changing with: mywidget.observe(callback, 'value').\n",
      "  input_box.on_submit(on_submit)\n"
     ]
    },
    {
     "data": {
      "application/vnd.jupyter.widget-view+json": {
       "model_id": "fb301b8d2edc49268b624938e074b923",
       "version_major": 2,
       "version_minor": 0
      },
      "text/plain": [
       "Text(value='', placeholder='Please enter your question:')"
      ]
     },
     "metadata": {},
     "output_type": "display_data"
    }
   ],
   "source": [
    "chat_history = []\n",
    "\n",
    "def on_submit(_):\n",
    "    query = input_box.value\n",
    "    input_box.value = \"\"\n",
    "    \n",
    "    if query.lower() == 'exit':\n",
    "        print(\"Thank you for using the State of the Union chatbot!\")\n",
    "        return\n",
    "    \n",
    "    result = qa({\"question\": query, \"chat_history\": chat_history})\n",
    "    chat_history.append((query, result['answer']))\n",
    "    \n",
    "    display(widgets.HTML(f'<b>User:</b> {query}'))\n",
    "    display(widgets.HTML(f'<b><font color=\"blue\">Chatbot:</font></b> {result[\"answer\"]}'))\n",
    "\n",
    "print(\"Welcome to the Transformers chatbot! Type 'exit' to stop.\")\n",
    "\n",
    "input_box = widgets.Text(placeholder='Please enter your question:')\n",
    "input_box.on_submit(on_submit)\n",
    "\n",
    "display(input_box)"
   ]
  },
  {
   "cell_type": "code",
   "execution_count": null,
   "metadata": {},
   "outputs": [],
   "source": []
  }
 ],
 "metadata": {
  "colab": {
   "provenance": []
  },
  "kernelspec": {
   "display_name": "Python 3 (ipykernel)",
   "language": "python",
   "name": "python3"
  },
  "language_info": {
   "codemirror_mode": {
    "name": "ipython",
    "version": 3
   },
   "file_extension": ".py",
   "mimetype": "text/x-python",
   "name": "python",
   "nbconvert_exporter": "python",
   "pygments_lexer": "ipython3",
   "version": "3.9.0"
  },
  "widgets": {
   "application/vnd.jupyter.widget-state+json": {
    "205f4fd2a0b74145b4d86a362710ce13": {
     "model_module": "@jupyter-widgets/base",
     "model_module_version": "1.2.0",
     "model_name": "LayoutModel",
     "state": {
      "_model_module": "@jupyter-widgets/base",
      "_model_module_version": "1.2.0",
      "_model_name": "LayoutModel",
      "_view_count": null,
      "_view_module": "@jupyter-widgets/base",
      "_view_module_version": "1.2.0",
      "_view_name": "LayoutView",
      "align_content": null,
      "align_items": null,
      "align_self": null,
      "border": null,
      "bottom": null,
      "display": null,
      "flex": null,
      "flex_flow": null,
      "grid_area": null,
      "grid_auto_columns": null,
      "grid_auto_flow": null,
      "grid_auto_rows": null,
      "grid_column": null,
      "grid_gap": null,
      "grid_row": null,
      "grid_template_areas": null,
      "grid_template_columns": null,
      "grid_template_rows": null,
      "height": null,
      "justify_content": null,
      "justify_items": null,
      "left": null,
      "margin": null,
      "max_height": null,
      "max_width": null,
      "min_height": null,
      "min_width": null,
      "object_fit": null,
      "object_position": null,
      "order": null,
      "overflow": null,
      "overflow_x": null,
      "overflow_y": null,
      "padding": null,
      "right": null,
      "top": null,
      "visibility": null,
      "width": null
     }
    },
    "6134b273f71748e084cddc9c86879556": {
     "model_module": "@jupyter-widgets/controls",
     "model_module_version": "1.5.0",
     "model_name": "TextModel",
     "state": {
      "_dom_classes": [],
      "_model_module": "@jupyter-widgets/controls",
      "_model_module_version": "1.5.0",
      "_model_name": "TextModel",
      "_view_count": null,
      "_view_module": "@jupyter-widgets/controls",
      "_view_module_version": "1.5.0",
      "_view_name": "TextView",
      "continuous_update": true,
      "description": "",
      "description_tooltip": null,
      "disabled": false,
      "layout": "IPY_MODEL_205f4fd2a0b74145b4d86a362710ce13",
      "placeholder": "Please enter your question:",
      "style": "IPY_MODEL_897aec3970604a77a1bcad68e70837cf",
      "value": ""
     }
    },
    "897aec3970604a77a1bcad68e70837cf": {
     "model_module": "@jupyter-widgets/controls",
     "model_module_version": "1.5.0",
     "model_name": "DescriptionStyleModel",
     "state": {
      "_model_module": "@jupyter-widgets/controls",
      "_model_module_version": "1.5.0",
      "_model_name": "DescriptionStyleModel",
      "_view_count": null,
      "_view_module": "@jupyter-widgets/base",
      "_view_module_version": "1.2.0",
      "_view_name": "StyleView",
      "description_width": ""
     }
    }
   }
  }
 },
 "nbformat": 4,
 "nbformat_minor": 1
}
